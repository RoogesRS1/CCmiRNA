{
  "nbformat": 4,
  "nbformat_minor": 0,
  "metadata": {
    "colab": {
      "name": "Model_Selection_q0.9",
      "provenance": [],
      "collapsed_sections": []
    },
    "kernelspec": {
      "name": "python3",
      "display_name": "Python 3"
    },
    "language_info": {
      "name": "python"
    }
  },
  "cells": [
    {
      "cell_type": "code",
      "source": [
        "from google.colab import drive\n",
        "drive.mount('/content/drive')"
      ],
      "metadata": {
        "colab": {
          "base_uri": "https://localhost:8080/"
        },
        "id": "Wbv_qloFWikf",
        "outputId": "2ea97726-50e1-4734-f52b-1444f50fb728"
      },
      "execution_count": null,
      "outputs": [
        {
          "output_type": "stream",
          "name": "stdout",
          "text": [
            "Mounted at /content/drive\n"
          ]
        }
      ]
    },
    {
      "cell_type": "code",
      "execution_count": null,
      "metadata": {
        "id": "29pKmfsrCsXo"
      },
      "outputs": [],
      "source": [
        "import pandas as pd\n",
        "import numpy as np\n",
        "import os\n",
        "import warnings\n",
        "warnings.filterwarnings(\"ignore\")\n",
        "import glob\n",
        "\n",
        "from sklearn import preprocessing\n",
        "from sklearn.preprocessing import RobustScaler\n",
        "from sklearn.preprocessing import label_binarize\n",
        "from sklearn.model_selection import train_test_split\n",
        "from sklearn.ensemble import RandomForestClassifier\n",
        "from sklearn.svm import SVC\n",
        "from sklearn import metrics\n",
        "\n",
        "from sklearn.model_selection import StratifiedKFold\n",
        "from sklearn.model_selection import cross_val_score\n",
        "from sklearn.model_selection import cross_val_predict\n",
        "\n",
        "from sklearn.utils import resample"
      ]
    },
    {
      "cell_type": "code",
      "source": [
        "# Function\n",
        "def DataDescription(data):\n",
        "   stat = pd.DataFrame(data.groupby(['Class']).agg(['count']).iloc[:,-1])\n",
        "   stat.columns = ['Count']\n",
        "   stat['Percentage'] = round(stat['Count']/stat['Count'].sum()*100,3)\n",
        "   print(stat) \n",
        "\n",
        "def Normalization(data): # Normalized data\n",
        "    RS = preprocessing.RobustScaler()\n",
        "    scaled_df = pd.DataFrame(RS.fit_transform(data.iloc[:,:-1]) , columns= data.iloc[:,:-1].columns, index=data.index)\n",
        "    scaled_df['Target'] = data['Class']\n",
        "    return scaled_df\n",
        "\n",
        "def ModelFitPrediction (X_train, X_test, y_train, y_test, model ): # For evaluating model performance\n",
        "    print('Number of test set: ', X_test.shape[0])\n",
        "\n",
        "    # Model_Name = 'RandomForestClassifier'\n",
        "    \n",
        "    model.fit(X_train, y_train) # step 2: fit\n",
        "    y_pred=model.predict(X_test) # step 3: predict\n",
        "    print('Accuracy score:', model.score(X_test, y_test).round(3)) # step 4: accuracy score for classification r2 for regression\n",
        "    # classes=list(set(data['Class']))\n",
        "    classes=['AIS','HSIL','Normal']\n",
        "    print(metrics.classification_report(y_test, y_pred, target_names=classes))\n",
        "    y_pred_prob = model.predict_proba(X_test)[::,1]\n",
        "\n",
        "    # show classification result\n",
        "    result = pd.concat([y_test.reset_index(),pd.DataFrame([y_pred,y_pred_prob]).T],axis=1)\n",
        "    result.columns = ['Patient','Class','Predicted','Predicted_Prob']\n",
        "    print(result)\n",
        "    return model\n",
        "\n",
        "def FoldCrossValidation(scaled_df, model): # For describing model generalization\n",
        "    print('Performance of classification model before feature selection')\n",
        "    cv = StratifiedKFold(n_splits=10, random_state=123, shuffle=True)\n",
        "    X=scaled_df.iloc[:,:-1]\n",
        "    print('Number of all features ', X.shape)\n",
        "    y=scaled_df['Target']\n",
        "    scores = cross_val_score(model, X,y, scoring='accuracy',cv=cv,n_jobs=-1)\n",
        "    print('Scores: ', np.round(scores,4))\n",
        "    print('Accuracy: %.3f (%.3f)'% (np.mean(scores),np.std(scores)))\n",
        "\n",
        "    # Feature selection by using Random Forest\n",
        "    importance = model.feature_importances_\n",
        "    importance_score = pd.DataFrame([X.columns, importance]).T\n",
        "    importance_score.columns = ['miRNA','Score']\n",
        "    importance_score = importance_score.sort_values(by='Score', ascending=False)\n",
        "    miRNA1 = importance_score[importance_score['Score'] > 0]['miRNA']\n",
        "\n",
        "    print(\"\\n\",'*'*30)\n",
        "    print('Performance of classification model after feature selection')\n",
        "    cv = StratifiedKFold(n_splits=10, random_state=123, shuffle=True)\n",
        "    X=scaled_df.loc[:,miRNA1]\n",
        "    print('Number of Selected features ', X.shape)\n",
        "    y=scaled_df['Target']\n",
        "    scores = cross_val_score(model, X,y, scoring='accuracy',cv=cv,n_jobs=-1)\n",
        "    print('Scores: ', np.round(scores,4))\n",
        "    print('Accuracy: %.3f (%.3f)'% (np.mean(scores),np.std(scores)))\n",
        "\n",
        "    return miRNA1"
      ],
      "metadata": {
        "id": "VoOQNlMxC0zZ"
      },
      "execution_count": null,
      "outputs": []
    },
    {
      "cell_type": "code",
      "source": [
        "base ='/content/drive/MyDrive/ML3_Noiseq_biomarker/'"
      ],
      "metadata": {
        "id": "sJwTxFkzC3iX"
      },
      "execution_count": null,
      "outputs": []
    },
    {
      "cell_type": "code",
      "source": [
        "# 1. Read Raw data\n",
        "# df = pd.read_csv(base+'merge set 2and4.csv').T\n",
        "df = pd.read_csv(base+'miRNA biomarker q0.9.csv').T\n",
        "df = df.rename(columns=df.iloc[0]).iloc[1:,:]\n",
        "\n",
        "label_df = pd.read_csv(base+'Factors set2and4 (3group).csv').iloc[:,:3]\n",
        "label_df['Type'] = label_df['Type'].str.replace(' ','')\n",
        "label_df['Class'] = label_df['Type']\n",
        "label_df = label_df.set_index('Sample Name')\n",
        "\n",
        "rawData = pd.concat([df,label_df['Class']], axis=1).fillna(0)\n",
        "data = rawData\n",
        "\n",
        "# 2. Show data description\n",
        "print('\\n', '2. Data Description')\n",
        "DataDescription(data=data)\n",
        "scaled_df = Normalization(data=data)\n",
        "print('\\n')\n",
        "\n"
      ],
      "metadata": {
        "colab": {
          "base_uri": "https://localhost:8080/"
        },
        "id": "S3pNfcBNDIFO",
        "outputId": "af96b650-adef-4eaa-ece8-e6b708905eaf"
      },
      "execution_count": null,
      "outputs": [
        {
          "output_type": "stream",
          "name": "stdout",
          "text": [
            "\n",
            " 2. Data Description\n",
            "        Count  Percentage\n",
            "Class                    \n",
            "AIS         8      11.111\n",
            "HSIL       59      81.944\n",
            "Normal      5       6.944\n",
            "\n",
            "\n"
          ]
        }
      ]
    },
    {
      "cell_type": "code",
      "source": [
        "# 3. Train and Test model \n",
        "# Train and Test spliting with 0.67 and 0.33 respectively\n",
        "print('\\n', '3. Performance of Model Classification')\n",
        "X_train, X_test, y_train, y_test = train_test_split(scaled_df.iloc[:,:-1], scaled_df['Target'], \n",
        "                                                    test_size=0.33) # , random_state=7\n",
        "model=RandomForestClassifier() # step 1: choose model/estimator for classification\n",
        "model = ModelFitPrediction (X_train, X_test, y_train, y_test, model )\n",
        "\n"
      ],
      "metadata": {
        "colab": {
          "base_uri": "https://localhost:8080/"
        },
        "id": "e0Ae3jklg_PB",
        "outputId": "4e86e807-8a9b-4c28-e605-5682bb1a4807"
      },
      "execution_count": null,
      "outputs": [
        {
          "output_type": "stream",
          "name": "stdout",
          "text": [
            "\n",
            " 3. Performance of Model Classification\n",
            "Number of test set:  24\n",
            "Accuracy score: 0.708\n",
            "              precision    recall  f1-score   support\n",
            "\n",
            "         AIS       0.00      0.00      0.00         2\n",
            "        HSIL       0.81      0.85      0.83        20\n",
            "      Normal       0.00      0.00      0.00         2\n",
            "\n",
            "    accuracy                           0.71        24\n",
            "   macro avg       0.27      0.28      0.28        24\n",
            "weighted avg       0.67      0.71      0.69        24\n",
            "\n",
            "   Patient   Class Predicted Predicted_Prob\n",
            "0   DC048V    HSIL       AIS           0.47\n",
            "1     037A    HSIL      HSIL           0.87\n",
            "2     049C     AIS      HSIL           0.57\n",
            "3     047C    HSIL      HSIL           0.94\n",
            "4   DC054C    HSIL      HSIL           0.87\n",
            "5     040A    HSIL      HSIL           0.75\n",
            "6     055B    HSIL      HSIL           0.87\n",
            "7     052C    HSIL      HSIL            0.9\n",
            "8     044B  Normal      HSIL           0.46\n",
            "9   DC054V    HSIL      HSIL           0.85\n",
            "10    050A    HSIL      HSIL            0.9\n",
            "11    047A    HSIL      HSIL           0.95\n",
            "12    042A    HSIL      HSIL           0.89\n",
            "13    052A    HSIL      HSIL           0.75\n",
            "14    031A  Normal      HSIL           0.44\n",
            "15  DC048C    HSIL       AIS           0.42\n",
            "16  DC051E     AIS      HSIL           0.65\n",
            "17    054B    HSIL      HSIL           0.92\n",
            "18    046C    HSIL      HSIL           0.91\n",
            "19    054A    HSIL      HSIL           0.83\n",
            "20  DC052E    HSIL      HSIL           0.76\n",
            "21  DC050C    HSIL      HSIL           0.96\n",
            "22  DC048E    HSIL       AIS            0.4\n",
            "23    028A    HSIL      HSIL            0.9\n"
          ]
        }
      ]
    },
    {
      "cell_type": "code",
      "source": [
        "# 4. Show model generalization\n",
        "print('\\n', '4. Model generalization')\n",
        "miRNA = FoldCrossValidation(scaled_df, model)\n",
        "\n"
      ],
      "metadata": {
        "colab": {
          "base_uri": "https://localhost:8080/"
        },
        "id": "cw__w7iLhEs4",
        "outputId": "886ce366-1bfa-4b72-ab34-f61afd35fec4"
      },
      "execution_count": null,
      "outputs": [
        {
          "output_type": "stream",
          "name": "stdout",
          "text": [
            "\n",
            " 4. Model generalization\n",
            "Performance of classification model before feature selection\n",
            "Number of all features  (72, 7)\n",
            "Scores:  [0.75   0.625  0.7143 0.8571 0.8571 0.8571 0.8571 0.8571 0.7143 0.7143]\n",
            "Accuracy: 0.780 (0.082)\n",
            "\n",
            " ******************************\n",
            "Performance of classification model after feature selection\n",
            "Number of Selected features  (72, 7)\n",
            "Scores:  [0.75   0.625  0.8571 0.8571 1.     0.8571 0.8571 0.8571 0.8571 0.7143]\n",
            "Accuracy: 0.823 (0.097)\n"
          ]
        }
      ]
    },
    {
      "cell_type": "code",
      "source": [
        "# 5. Generate model with Feature selection\n",
        "print('\\n', '5. Performance of Model Classification after Feature selection')\n",
        "X_train = X_train.loc[:,miRNA]\n",
        "X_test = X_test.loc[:,miRNA]\n",
        "modelSelection = ModelFitPrediction (X_train, X_test, y_train, y_test, model )"
      ],
      "metadata": {
        "colab": {
          "base_uri": "https://localhost:8080/"
        },
        "id": "mSnAZ6cohJZc",
        "outputId": "b6789079-7057-4e4d-a368-6f887655c461"
      },
      "execution_count": null,
      "outputs": [
        {
          "output_type": "stream",
          "name": "stdout",
          "text": [
            "\n",
            " 5. Performance of Model Classification after Feature selection\n",
            "Number of test set:  24\n",
            "Accuracy score: 0.75\n",
            "              precision    recall  f1-score   support\n",
            "\n",
            "         AIS       0.00      0.00      0.00         2\n",
            "        HSIL       0.82      0.90      0.86        20\n",
            "      Normal       0.00      0.00      0.00         2\n",
            "\n",
            "    accuracy                           0.75        24\n",
            "   macro avg       0.27      0.30      0.29        24\n",
            "weighted avg       0.68      0.75      0.71        24\n",
            "\n",
            "   Patient   Class Predicted Predicted_Prob\n",
            "0   DC048V    HSIL      HSIL           0.52\n",
            "1     037A    HSIL      HSIL           0.84\n",
            "2     049C     AIS      HSIL           0.56\n",
            "3     047C    HSIL      HSIL           0.94\n",
            "4   DC054C    HSIL      HSIL           0.86\n",
            "5     040A    HSIL      HSIL           0.85\n",
            "6     055B    HSIL      HSIL           0.88\n",
            "7     052C    HSIL      HSIL           0.92\n",
            "8     044B  Normal      HSIL           0.63\n",
            "9   DC054V    HSIL      HSIL           0.89\n",
            "10    050A    HSIL      HSIL           0.93\n",
            "11    047A    HSIL      HSIL           0.96\n",
            "12    042A    HSIL      HSIL           0.94\n",
            "13    052A    HSIL      HSIL           0.79\n",
            "14    031A  Normal      HSIL           0.52\n",
            "15  DC048C    HSIL       AIS           0.47\n",
            "16  DC051E     AIS      HSIL           0.72\n",
            "17    054B    HSIL      HSIL           0.95\n",
            "18    046C    HSIL      HSIL           0.97\n",
            "19    054A    HSIL      HSIL           0.76\n",
            "20  DC052E    HSIL      HSIL           0.86\n",
            "21  DC050C    HSIL      HSIL           0.91\n",
            "22  DC048E    HSIL       AIS           0.49\n",
            "23    028A    HSIL      HSIL           0.88\n"
          ]
        }
      ]
    },
    {
      "cell_type": "code",
      "source": [
        "# 6. 3 times Upsampling on AIS and Normal group\n",
        "\n",
        "up_df = pd.DataFrame()\n",
        "for c in ['AIS', 'Normal']:\n",
        "    sampling = data[data['Class'] == c]\n",
        "    up_sampling = resample(sampling, replace=True, n_samples=sampling.shape[0]*3, random_state=123)\n",
        "    up_df = up_df.append(up_sampling)\n",
        "\n",
        "hsil  = data[data['Class']== 'HSIL']\n",
        "\n",
        "new_data = hsil.append(up_df)\n",
        "\n",
        "# 7. Show data description\n",
        "DataDescription(data=new_data)\n",
        "scaled_df = Normalization(data=new_data)\n",
        "print('\\n')\n",
        "\n",
        "\n",
        "# 8. Train and Test model \n",
        "# Train and Test spliting with 0.67 and 0.33 respectively\n",
        "X_train, X_test, y_train, y_test = train_test_split(scaled_df.iloc[:,:-1], scaled_df['Target'], \n",
        "                                                    test_size=0.33) # , random_state=7\n",
        "model=RandomForestClassifier() # step 1: choose model/estimator for classification\n",
        "model = ModelFitPrediction (X_train, X_test, y_train, y_test, model )\n",
        "\n",
        "# 9. Show model generalization\n",
        "print('\\n', 'Model generalization')\n",
        "miRNA = FoldCrossValidation(scaled_df, model)\n",
        "\n",
        "# 10. Generate model with Feature selection\n",
        "print('\\n', 'Model with Feature selection')\n",
        "X_train = X_train.loc[:,miRNA]\n",
        "X_test = X_test.loc[:,miRNA]\n",
        "modelSelection = ModelFitPrediction (X_train, X_test, y_train, y_test, model )"
      ],
      "metadata": {
        "id": "6G9w3s94DTTE",
        "colab": {
          "base_uri": "https://localhost:8080/"
        },
        "outputId": "1d12dcec-d404-4c98-9741-8b3569e3a20a"
      },
      "execution_count": null,
      "outputs": [
        {
          "output_type": "stream",
          "name": "stdout",
          "text": [
            "        Count  Percentage\n",
            "Class                    \n",
            "AIS        24      24.490\n",
            "HSIL       59      60.204\n",
            "Normal     15      15.306\n",
            "\n",
            "\n",
            "Number of test set:  33\n",
            "Accuracy score: 0.848\n",
            "              precision    recall  f1-score   support\n",
            "\n",
            "         AIS       1.00      0.60      0.75        10\n",
            "        HSIL       0.77      1.00      0.87        17\n",
            "      Normal       1.00      0.83      0.91         6\n",
            "\n",
            "    accuracy                           0.85        33\n",
            "   macro avg       0.92      0.81      0.84        33\n",
            "weighted avg       0.88      0.85      0.84        33\n",
            "\n",
            "   Patient   Class Predicted Predicted_Prob\n",
            "0     041B    HSIL      HSIL            0.9\n",
            "1     049A     AIS       AIS           0.21\n",
            "2   DC049E     AIS      HSIL            0.9\n",
            "3     050C  Normal      HSIL            1.0\n",
            "4     044A  Normal    Normal            0.0\n",
            "5     048D    HSIL      HSIL           0.55\n",
            "6     046B    HSIL      HSIL           0.97\n",
            "7     052A    HSIL      HSIL            1.0\n",
            "8     044C  Normal    Normal           0.13\n",
            "9   DC049V     AIS       AIS           0.01\n",
            "10  DC055V    HSIL      HSIL           0.97\n",
            "11  DC051E     AIS      HSIL           0.92\n",
            "12    055A    HSIL      HSIL           0.56\n",
            "13    031A  Normal    Normal           0.15\n",
            "14  DC052V    HSIL      HSIL           0.97\n",
            "15    050A    HSIL      HSIL           0.99\n",
            "16    034A    HSIL      HSIL           0.95\n",
            "17    036A    HSIL      HSIL           0.94\n",
            "18    048A    HSIL      HSIL           0.68\n",
            "19    044A  Normal    Normal            0.0\n",
            "20    051C    HSIL      HSIL           0.94\n",
            "21    055B    HSIL      HSIL           0.97\n",
            "22    049A     AIS       AIS           0.21\n",
            "23  DC049C     AIS       AIS           0.28\n",
            "24  DC049V     AIS       AIS           0.01\n",
            "25  DC051V    HSIL      HSIL           0.89\n",
            "26    027A    HSIL      HSIL           0.96\n",
            "27    051B     AIS      HSIL           0.84\n",
            "28    049B     AIS       AIS           0.01\n",
            "29    031A  Normal    Normal           0.15\n",
            "30  DC051E     AIS      HSIL           0.92\n",
            "31    035A    HSIL      HSIL           0.98\n",
            "32    052C    HSIL      HSIL            0.9\n",
            "\n",
            " Model generalization\n",
            "Performance of classification model before feature selection\n",
            "Number of all features  (98, 7)\n",
            "Scores:  [1.     0.9    0.9    1.     0.9    1.     1.     0.9    0.8889 0.8889]\n",
            "Accuracy: 0.938 (0.051)\n",
            "\n",
            " ******************************\n",
            "Performance of classification model after feature selection\n",
            "Number of Selected features  (98, 7)\n",
            "Scores:  [1.     0.9    0.9    1.     0.9    1.     1.     0.9    0.8889 0.8889]\n",
            "Accuracy: 0.938 (0.051)\n",
            "\n",
            " Model with Feature selection\n",
            "Number of test set:  33\n",
            "Accuracy score: 0.848\n",
            "              precision    recall  f1-score   support\n",
            "\n",
            "         AIS       1.00      0.60      0.75        10\n",
            "        HSIL       0.77      1.00      0.87        17\n",
            "      Normal       1.00      0.83      0.91         6\n",
            "\n",
            "    accuracy                           0.85        33\n",
            "   macro avg       0.92      0.81      0.84        33\n",
            "weighted avg       0.88      0.85      0.84        33\n",
            "\n",
            "   Patient   Class Predicted Predicted_Prob\n",
            "0     041B    HSIL      HSIL           0.95\n",
            "1     049A     AIS       AIS           0.07\n",
            "2   DC049E     AIS      HSIL            0.9\n",
            "3     050C  Normal      HSIL            1.0\n",
            "4     044A  Normal    Normal           0.01\n",
            "5     048D    HSIL      HSIL           0.58\n",
            "6     046B    HSIL      HSIL           0.94\n",
            "7     052A    HSIL      HSIL            1.0\n",
            "8     044C  Normal    Normal           0.16\n",
            "9   DC049V     AIS       AIS           0.03\n",
            "10  DC055V    HSIL      HSIL           0.96\n",
            "11  DC051E     AIS      HSIL           0.86\n",
            "12    055A    HSIL      HSIL           0.57\n",
            "13    031A  Normal    Normal           0.12\n",
            "14  DC052V    HSIL      HSIL           0.97\n",
            "15    050A    HSIL      HSIL            1.0\n",
            "16    034A    HSIL      HSIL           0.94\n",
            "17    036A    HSIL      HSIL           0.95\n",
            "18    048A    HSIL      HSIL           0.68\n",
            "19    044A  Normal    Normal           0.01\n",
            "20    051C    HSIL      HSIL            0.9\n",
            "21    055B    HSIL      HSIL           0.95\n",
            "22    049A     AIS       AIS           0.07\n",
            "23  DC049C     AIS       AIS           0.26\n",
            "24  DC049V     AIS       AIS           0.03\n",
            "25  DC051V    HSIL      HSIL           0.87\n",
            "26    027A    HSIL      HSIL           0.94\n",
            "27    051B     AIS      HSIL           0.84\n",
            "28    049B     AIS       AIS            0.0\n",
            "29    031A  Normal    Normal           0.12\n",
            "30  DC051E     AIS      HSIL           0.86\n",
            "31    035A    HSIL      HSIL           0.98\n",
            "32    052C    HSIL      HSIL           0.91\n"
          ]
        }
      ]
    },
    {
      "cell_type": "code",
      "source": [
        "# output = base + 'Importance_Feature.csv'\n",
        "# miRNA.to_csv(output)"
      ],
      "metadata": {
        "id": "WphLKOgiDa6_"
      },
      "execution_count": null,
      "outputs": []
    }
  ]
}