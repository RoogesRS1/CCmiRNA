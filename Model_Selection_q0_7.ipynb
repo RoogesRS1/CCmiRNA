{
  "nbformat": 4,
  "nbformat_minor": 0,
  "metadata": {
    "colab": {
      "name": "Model_Selection_q0.7",
      "provenance": [],
      "collapsed_sections": []
    },
    "kernelspec": {
      "name": "python3",
      "display_name": "Python 3"
    },
    "language_info": {
      "name": "python"
    }
  },
  "cells": [
    {
      "cell_type": "code",
      "source": [
        "from google.colab import drive\n",
        "drive.mount('/content/drive')"
      ],
      "metadata": {
        "colab": {
          "base_uri": "https://localhost:8080/"
        },
        "id": "Wbv_qloFWikf",
        "outputId": "dc050f22-3935-46db-95bf-0824d6060e11"
      },
      "execution_count": null,
      "outputs": [
        {
          "output_type": "stream",
          "name": "stdout",
          "text": [
            "Drive already mounted at /content/drive; to attempt to forcibly remount, call drive.mount(\"/content/drive\", force_remount=True).\n"
          ]
        }
      ]
    },
    {
      "cell_type": "code",
      "execution_count": null,
      "metadata": {
        "id": "29pKmfsrCsXo"
      },
      "outputs": [],
      "source": [
        "import pandas as pd\n",
        "import numpy as np\n",
        "import os\n",
        "import warnings\n",
        "warnings.filterwarnings(\"ignore\")\n",
        "import glob\n",
        "\n",
        "from sklearn import preprocessing\n",
        "from sklearn.preprocessing import RobustScaler\n",
        "from sklearn.preprocessing import label_binarize\n",
        "from sklearn.model_selection import train_test_split\n",
        "from sklearn.ensemble import RandomForestClassifier\n",
        "from sklearn.svm import SVC\n",
        "from sklearn import metrics\n",
        "\n",
        "from sklearn.model_selection import StratifiedKFold\n",
        "from sklearn.model_selection import cross_val_score\n",
        "from sklearn.model_selection import cross_val_predict\n",
        "\n",
        "from sklearn.utils import resample"
      ]
    },
    {
      "cell_type": "code",
      "source": [
        "# Function\n",
        "def DataDescription(data):\n",
        "   stat = pd.DataFrame(data.groupby(['Class']).agg(['count']).iloc[:,-1])\n",
        "   stat.columns = ['Count']\n",
        "   stat['Percentage'] = round(stat['Count']/stat['Count'].sum()*100,3)\n",
        "   print(stat) \n",
        "\n",
        "def Normalization(data): # Normalized data\n",
        "    RS = preprocessing.RobustScaler()\n",
        "    scaled_df = pd.DataFrame(RS.fit_transform(data.iloc[:,:-1]) , columns= data.iloc[:,:-1].columns, index=data.index)\n",
        "    scaled_df['Target'] = data['Class']\n",
        "    return scaled_df\n",
        "\n",
        "def ModelFitPrediction (X_train, X_test, y_train, y_test, model ): # For evaluating model performance\n",
        "    print('Number of test set: ', X_test.shape[0])\n",
        "\n",
        "    # Model_Name = 'RandomForestClassifier'\n",
        "    \n",
        "    model.fit(X_train, y_train) # step 2: fit\n",
        "    y_pred=model.predict(X_test) # step 3: predict\n",
        "    print('Accuracy score:', model.score(X_test, y_test).round(3)) # step 4: accuracy score for classification r2 for regression\n",
        "    # classes=list(set(data['Class']))\n",
        "    classes=['AIS','HSIL','Normal']\n",
        "    print(metrics.classification_report(y_test, y_pred, target_names=classes))\n",
        "    y_pred_prob = model.predict_proba(X_test)[::,1]\n",
        "\n",
        "    # show classification result\n",
        "    result = pd.concat([y_test.reset_index(),pd.DataFrame([y_pred,y_pred_prob]).T],axis=1)\n",
        "    result.columns = ['Patient','Class','Predicted','Predicted_Prob']\n",
        "    print(result)\n",
        "    return model\n",
        "\n",
        "def FoldCrossValidation(scaled_df, model): # For describing model generalization\n",
        "    print('Performance of classification model before feature selection')\n",
        "    cv = StratifiedKFold(n_splits=10, random_state=123, shuffle=True)\n",
        "    X=scaled_df.iloc[:,:-1]\n",
        "    print('Number of all features ', X.shape)\n",
        "    y=scaled_df['Target']\n",
        "    scores = cross_val_score(model, X,y, scoring='accuracy',cv=cv,n_jobs=-1)\n",
        "    print('Scores: ', np.round(scores,4))\n",
        "    print('Accuracy: %.3f (%.3f)'% (np.mean(scores),np.std(scores)))\n",
        "\n",
        "    # Feature selection by using Random Forest\n",
        "    importance = model.feature_importances_\n",
        "    importance_score = pd.DataFrame([X.columns, importance]).T\n",
        "    importance_score.columns = ['miRNA','Score']\n",
        "    importance_score = importance_score.sort_values(by='Score', ascending=False)\n",
        "    miRNA1 = importance_score[importance_score['Score'] > 0]['miRNA']\n",
        "\n",
        "    print(\"\\n\",'*'*30)\n",
        "    print('Performance of classification model after feature selection')\n",
        "    cv = StratifiedKFold(n_splits=10, random_state=123, shuffle=True)\n",
        "    X=scaled_df.loc[:,miRNA1]\n",
        "    print('Number of Selected features ', X.shape)\n",
        "    y=scaled_df['Target']\n",
        "    scores = cross_val_score(model, X,y, scoring='accuracy',cv=cv,n_jobs=-1)\n",
        "    print('Scores: ', np.round(scores,4))\n",
        "    print('Accuracy: %.3f (%.3f)'% (np.mean(scores),np.std(scores)))\n",
        "\n",
        "    return miRNA1"
      ],
      "metadata": {
        "id": "VoOQNlMxC0zZ"
      },
      "execution_count": null,
      "outputs": []
    },
    {
      "cell_type": "code",
      "source": [
        "base ='/content/drive/MyDrive/ML3_Noiseq_biomarker/'"
      ],
      "metadata": {
        "id": "sJwTxFkzC3iX"
      },
      "execution_count": null,
      "outputs": []
    },
    {
      "cell_type": "code",
      "source": [
        "# 1. Read Raw data\n",
        "# df = pd.read_csv(base+'merge set 2and4.csv').T\n",
        "df = pd.read_csv(base+'miRNA biomarker q0.7.csv').T\n",
        "df = df.rename(columns=df.iloc[0]).iloc[1:,:]\n",
        "\n",
        "label_df = pd.read_csv(base+'Factors set2and4 (3group).csv').iloc[:,:3]\n",
        "label_df['Type'] = label_df['Type'].str.replace(' ','')\n",
        "label_df['Class'] = label_df['Type']\n",
        "label_df = label_df.set_index('Sample Name')\n",
        "\n",
        "rawData = pd.concat([df,label_df['Class']], axis=1).fillna(0)\n",
        "data = rawData\n",
        "\n",
        "# 2. Show data description\n",
        "print('\\n', '2. Data Description')\n",
        "DataDescription(data=data)\n",
        "scaled_df = Normalization(data=data)\n",
        "print('\\n')\n",
        "\n"
      ],
      "metadata": {
        "colab": {
          "base_uri": "https://localhost:8080/"
        },
        "id": "S3pNfcBNDIFO",
        "outputId": "3f1ab793-7063-4586-af2a-5f1c0537413a"
      },
      "execution_count": null,
      "outputs": [
        {
          "output_type": "stream",
          "name": "stdout",
          "text": [
            "\n",
            " 2. Data Description\n",
            "        Count  Percentage\n",
            "Class                    \n",
            "AIS         8      11.111\n",
            "HSIL       59      81.944\n",
            "Normal      5       6.944\n",
            "\n",
            "\n"
          ]
        }
      ]
    },
    {
      "cell_type": "code",
      "source": [
        "# 3. Train and Test model \n",
        "# Train and Test spliting with 0.67 and 0.33 respectively\n",
        "print('\\n', '3. Performance of Model Classification')\n",
        "X_train, X_test, y_train, y_test = train_test_split(scaled_df.iloc[:,:-1], scaled_df['Target'], \n",
        "                                                    test_size=0.33) # , random_state=7\n",
        "model=RandomForestClassifier() # step 1: choose model/estimator for classification\n",
        "model = ModelFitPrediction (X_train, X_test, y_train, y_test, model )\n",
        "\n"
      ],
      "metadata": {
        "colab": {
          "base_uri": "https://localhost:8080/"
        },
        "id": "e0Ae3jklg_PB",
        "outputId": "919cdf1d-e0ca-469b-9924-0d44268ccadf"
      },
      "execution_count": null,
      "outputs": [
        {
          "output_type": "stream",
          "name": "stdout",
          "text": [
            "\n",
            " 3. Performance of Model Classification\n",
            "Number of test set:  24\n",
            "Accuracy score: 0.792\n",
            "              precision    recall  f1-score   support\n",
            "\n",
            "         AIS       0.00      0.00      0.00         2\n",
            "        HSIL       0.79      1.00      0.88        19\n",
            "      Normal       0.00      0.00      0.00         3\n",
            "\n",
            "    accuracy                           0.79        24\n",
            "   macro avg       0.26      0.33      0.29        24\n",
            "weighted avg       0.63      0.79      0.70        24\n",
            "\n",
            "   Patient   Class Predicted Predicted_Prob\n",
            "0     048B    HSIL      HSIL           0.91\n",
            "1     041A    HSIL      HSIL           0.86\n",
            "2   DC049V     AIS      HSIL           0.94\n",
            "3   DC055E    HSIL      HSIL           0.97\n",
            "4     046A    HSIL      HSIL           0.98\n",
            "5     044A  Normal      HSIL           0.56\n",
            "6     050C  Normal      HSIL           0.78\n",
            "7     048D    HSIL      HSIL           0.91\n",
            "8     051A    HSIL      HSIL           0.83\n",
            "9     041B    HSIL      HSIL           0.93\n",
            "10    052A    HSIL      HSIL           0.98\n",
            "11    037A    HSIL      HSIL            0.8\n",
            "12    033A    HSIL      HSIL           0.91\n",
            "13  DC053C    HSIL      HSIL           0.85\n",
            "14    049B     AIS      HSIL           0.94\n",
            "15    045A    HSIL      HSIL           0.73\n",
            "16    047B    HSIL      HSIL           0.98\n",
            "17    044C  Normal      HSIL            0.6\n",
            "18    053A    HSIL      HSIL           0.86\n",
            "19    027A    HSIL      HSIL           0.96\n",
            "20  DC052E    HSIL      HSIL           0.92\n",
            "21    052C    HSIL      HSIL           0.75\n",
            "22  DC048C    HSIL      HSIL           0.96\n",
            "23  DC048V    HSIL      HSIL           0.93\n"
          ]
        }
      ]
    },
    {
      "cell_type": "code",
      "source": [
        "# 4. Show model generalization\n",
        "print('\\n', '4. Model generalization')\n",
        "miRNA = FoldCrossValidation(scaled_df, model)\n",
        "\n"
      ],
      "metadata": {
        "colab": {
          "base_uri": "https://localhost:8080/"
        },
        "id": "cw__w7iLhEs4",
        "outputId": "ed77cc5e-d669-48ac-cf5f-8608e52dfb75"
      },
      "execution_count": null,
      "outputs": [
        {
          "output_type": "stream",
          "name": "stdout",
          "text": [
            "\n",
            " 4. Model generalization\n",
            "Performance of classification model before feature selection\n",
            "Number of all features  (72, 38)\n",
            "Scores:  [0.75   0.75   1.     0.8571 0.8571 0.8571 0.8571 0.8571 0.8571 0.7143]\n",
            "Accuracy: 0.836 (0.077)\n",
            "\n",
            " ******************************\n",
            "Performance of classification model after feature selection\n",
            "Number of Selected features  (72, 38)\n",
            "Scores:  [0.75   0.75   0.8571 0.8571 0.8571 0.8571 0.8571 0.8571 0.8571 0.7143]\n",
            "Accuracy: 0.821 (0.055)\n"
          ]
        }
      ]
    },
    {
      "cell_type": "code",
      "source": [
        "# 5. Generate model with Feature selection\n",
        "print('\\n', '5. Performance of Model Classification after Feature selection')\n",
        "X_train = X_train.loc[:,miRNA]\n",
        "X_test = X_test.loc[:,miRNA]\n",
        "modelSelection = ModelFitPrediction (X_train, X_test, y_train, y_test, model )"
      ],
      "metadata": {
        "colab": {
          "base_uri": "https://localhost:8080/"
        },
        "id": "mSnAZ6cohJZc",
        "outputId": "d68fd238-fa0a-4cb4-c9b5-5e67586f8e08"
      },
      "execution_count": null,
      "outputs": [
        {
          "output_type": "stream",
          "name": "stdout",
          "text": [
            "\n",
            " 5. Performance of Model Classification after Feature selection\n",
            "Number of test set:  24\n",
            "Accuracy score: 0.792\n",
            "              precision    recall  f1-score   support\n",
            "\n",
            "         AIS       0.00      0.00      0.00         2\n",
            "        HSIL       0.79      1.00      0.88        19\n",
            "      Normal       0.00      0.00      0.00         3\n",
            "\n",
            "    accuracy                           0.79        24\n",
            "   macro avg       0.26      0.33      0.29        24\n",
            "weighted avg       0.63      0.79      0.70        24\n",
            "\n",
            "   Patient   Class Predicted Predicted_Prob\n",
            "0     048B    HSIL      HSIL           0.93\n",
            "1     041A    HSIL      HSIL           0.88\n",
            "2   DC049V     AIS      HSIL           0.88\n",
            "3   DC055E    HSIL      HSIL           0.95\n",
            "4     046A    HSIL      HSIL            1.0\n",
            "5     044A  Normal      HSIL           0.69\n",
            "6     050C  Normal      HSIL           0.83\n",
            "7     048D    HSIL      HSIL           0.95\n",
            "8     051A    HSIL      HSIL           0.93\n",
            "9     041B    HSIL      HSIL           0.95\n",
            "10    052A    HSIL      HSIL            1.0\n",
            "11    037A    HSIL      HSIL           0.81\n",
            "12    033A    HSIL      HSIL           0.89\n",
            "13  DC053C    HSIL      HSIL            0.9\n",
            "14    049B     AIS      HSIL           0.91\n",
            "15    045A    HSIL      HSIL           0.77\n",
            "16    047B    HSIL      HSIL           0.98\n",
            "17    044C  Normal      HSIL           0.54\n",
            "18    053A    HSIL      HSIL           0.93\n",
            "19    027A    HSIL      HSIL           0.97\n",
            "20  DC052E    HSIL      HSIL           0.88\n",
            "21    052C    HSIL      HSIL           0.73\n",
            "22  DC048C    HSIL      HSIL           0.95\n",
            "23  DC048V    HSIL      HSIL           0.89\n"
          ]
        }
      ]
    },
    {
      "cell_type": "code",
      "source": [
        "# 6. 3 times Upsampling on AIS and Normal group\n",
        "\n",
        "up_df = pd.DataFrame()\n",
        "for c in ['AIS', 'Normal']:\n",
        "    sampling = data[data['Class'] == c]\n",
        "    up_sampling = resample(sampling, replace=True, n_samples=sampling.shape[0]*3, random_state=123)\n",
        "    up_df = up_df.append(up_sampling)\n",
        "\n",
        "hsil  = data[data['Class']== 'HSIL']\n",
        "\n",
        "new_data = hsil.append(up_df)\n",
        "\n",
        "# 7. Show data description\n",
        "DataDescription(data=new_data)\n",
        "scaled_df = Normalization(data=new_data)\n",
        "print('\\n')\n",
        "\n",
        "\n",
        "# 8. Train and Test model \n",
        "# Train and Test spliting with 0.67 and 0.33 respectively\n",
        "X_train, X_test, y_train, y_test = train_test_split(scaled_df.iloc[:,:-1], scaled_df['Target'], \n",
        "                                                    test_size=0.33) # , random_state=7\n",
        "model=RandomForestClassifier() # step 1: choose model/estimator for classification\n",
        "model = ModelFitPrediction (X_train, X_test, y_train, y_test, model )\n",
        "\n",
        "# 9. Show model generalization\n",
        "print('\\n', 'Model generalization')\n",
        "miRNA = FoldCrossValidation(scaled_df, model)\n",
        "\n",
        "# 10. Generate model with Feature selection\n",
        "print('\\n', 'Model with Feature selection')\n",
        "X_train = X_train.loc[:,miRNA]\n",
        "X_test = X_test.loc[:,miRNA]\n",
        "modelSelection = ModelFitPrediction (X_train, X_test, y_train, y_test, model )"
      ],
      "metadata": {
        "id": "6G9w3s94DTTE",
        "colab": {
          "base_uri": "https://localhost:8080/"
        },
        "outputId": "e24a7efc-0302-4814-84e1-913a63546390"
      },
      "execution_count": null,
      "outputs": [
        {
          "output_type": "stream",
          "name": "stdout",
          "text": [
            "        Count  Percentage\n",
            "Class                    \n",
            "AIS        24      24.490\n",
            "HSIL       59      60.204\n",
            "Normal     15      15.306\n",
            "\n",
            "\n",
            "Number of test set:  33\n",
            "Accuracy score: 0.879\n",
            "              precision    recall  f1-score   support\n",
            "\n",
            "         AIS       1.00      0.62      0.77         8\n",
            "        HSIL       0.88      0.96      0.92        24\n",
            "      Normal       0.50      1.00      0.67         1\n",
            "\n",
            "    accuracy                           0.88        33\n",
            "   macro avg       0.79      0.86      0.79        33\n",
            "weighted avg       0.90      0.88      0.88        33\n",
            "\n",
            "   Patient   Class Predicted Predicted_Prob\n",
            "0     039A    HSIL      HSIL           0.77\n",
            "1   DC049E     AIS      HSIL            0.7\n",
            "2     048C    HSIL      HSIL           0.94\n",
            "3     043D    HSIL    Normal           0.35\n",
            "4     054C    HSIL      HSIL           0.62\n",
            "5   DC055E    HSIL      HSIL           0.86\n",
            "6   DC054E    HSIL      HSIL           0.72\n",
            "7     047C    HSIL      HSIL           0.83\n",
            "8   DC049C     AIS      HSIL           0.87\n",
            "9   DC051C    HSIL      HSIL           0.62\n",
            "10    029A    HSIL      HSIL           0.87\n",
            "11    049A     AIS       AIS           0.11\n",
            "12    049B     AIS       AIS           0.01\n",
            "13    052C    HSIL      HSIL           0.61\n",
            "14    055B    HSIL      HSIL            0.8\n",
            "15  DC049C     AIS      HSIL           0.87\n",
            "16    055C    HSIL      HSIL           0.74\n",
            "17    049C     AIS       AIS           0.15\n",
            "18    031A  Normal    Normal            0.1\n",
            "19    048B    HSIL      HSIL           0.75\n",
            "20  DC054C    HSIL      HSIL           0.83\n",
            "21    040A    HSIL      HSIL           0.65\n",
            "22    050A    HSIL      HSIL           0.82\n",
            "23  DC049V     AIS       AIS            0.0\n",
            "24  DC052V    HSIL      HSIL           0.89\n",
            "25    047B    HSIL      HSIL           0.94\n",
            "26  DC052C    HSIL      HSIL           0.65\n",
            "27  DC053V    HSIL      HSIL           0.91\n",
            "28    049C     AIS       AIS           0.15\n",
            "29  DC051V    HSIL      HSIL           0.73\n",
            "30    034A    HSIL      HSIL           0.77\n",
            "31    052B    HSIL      HSIL           0.85\n",
            "32    038A    HSIL      HSIL           0.88\n",
            "\n",
            " Model generalization\n",
            "Performance of classification model before feature selection\n",
            "Number of all features  (98, 38)\n",
            "Scores:  [1.     0.9    1.     1.     0.9    1.     1.     0.9    1.     0.8889]\n",
            "Accuracy: 0.959 (0.050)\n",
            "\n",
            " ******************************\n",
            "Performance of classification model after feature selection\n",
            "Number of Selected features  (98, 38)\n",
            "Scores:  [1.     0.9    1.     1.     0.9    1.     1.     0.9    1.     0.8889]\n",
            "Accuracy: 0.959 (0.050)\n",
            "\n",
            " Model with Feature selection\n",
            "Number of test set:  33\n",
            "Accuracy score: 0.879\n",
            "              precision    recall  f1-score   support\n",
            "\n",
            "         AIS       1.00      0.62      0.77         8\n",
            "        HSIL       0.88      0.96      0.92        24\n",
            "      Normal       0.50      1.00      0.67         1\n",
            "\n",
            "    accuracy                           0.88        33\n",
            "   macro avg       0.79      0.86      0.79        33\n",
            "weighted avg       0.90      0.88      0.88        33\n",
            "\n",
            "   Patient   Class Predicted Predicted_Prob\n",
            "0     039A    HSIL      HSIL           0.81\n",
            "1   DC049E     AIS      HSIL           0.57\n",
            "2     048C    HSIL      HSIL           0.93\n",
            "3     043D    HSIL    Normal           0.33\n",
            "4     054C    HSIL      HSIL           0.59\n",
            "5   DC055E    HSIL      HSIL           0.91\n",
            "6   DC054E    HSIL      HSIL           0.68\n",
            "7     047C    HSIL      HSIL           0.84\n",
            "8   DC049C     AIS      HSIL            0.8\n",
            "9   DC051C    HSIL      HSIL           0.67\n",
            "10    029A    HSIL      HSIL           0.88\n",
            "11    049A     AIS       AIS           0.07\n",
            "12    049B     AIS       AIS           0.01\n",
            "13    052C    HSIL      HSIL           0.55\n",
            "14    055B    HSIL      HSIL           0.93\n",
            "15  DC049C     AIS      HSIL            0.8\n",
            "16    055C    HSIL      HSIL           0.77\n",
            "17    049C     AIS       AIS           0.12\n",
            "18    031A  Normal    Normal           0.06\n",
            "19    048B    HSIL      HSIL           0.67\n",
            "20  DC054C    HSIL      HSIL           0.83\n",
            "21    040A    HSIL      HSIL           0.61\n",
            "22    050A    HSIL      HSIL            0.8\n",
            "23  DC049V     AIS       AIS            0.0\n",
            "24  DC052V    HSIL      HSIL           0.83\n",
            "25    047B    HSIL      HSIL           0.94\n",
            "26  DC052C    HSIL      HSIL           0.63\n",
            "27  DC053V    HSIL      HSIL           0.83\n",
            "28    049C     AIS       AIS           0.12\n",
            "29  DC051V    HSIL      HSIL           0.76\n",
            "30    034A    HSIL      HSIL           0.87\n",
            "31    052B    HSIL      HSIL            0.9\n",
            "32    038A    HSIL      HSIL           0.89\n"
          ]
        }
      ]
    },
    {
      "cell_type": "code",
      "source": [
        "# output = base + 'Importance_Feature.csv'\n",
        "# miRNA.to_csv(output)"
      ],
      "metadata": {
        "id": "WphLKOgiDa6_"
      },
      "execution_count": null,
      "outputs": []
    }
  ]
}